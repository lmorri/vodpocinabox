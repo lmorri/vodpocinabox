{
 "cells": [
  {
   "cell_type": "markdown",
   "metadata": {},
   "source": [
    "# Cleaning Up\n",
    "\n",
    "This notebook demonstrates how to clean up all the resources created in the previous set of notebooks."
   ]
  },
  {
   "cell_type": "code",
   "execution_count": 2,
   "metadata": {},
   "outputs": [],
   "source": [
    "import boto3\n",
    "import json"
   ]
  },
  {
   "cell_type": "code",
   "execution_count": 3,
   "metadata": {},
   "outputs": [],
   "source": [
    "# Configure the SDK to Personalize:\n",
    "personalize = boto3.client('personalize')\n",
    "personalize_runtime = boto3.client('personalize-runtime')"
   ]
  },
  {
   "cell_type": "code",
   "execution_count": 20,
   "metadata": {},
   "outputs": [],
   "source": [
    "%store -r"
   ]
  },
  {
   "cell_type": "markdown",
   "metadata": {},
   "source": [
    "## Clean up campaigns\n",
    "\n",
    "Start by cleaning up the campaigns. You need to delete campaigns before you can delete the solution versions upon which they are based. \n",
    "\n",
    "The code below will list all of the campaigns in your account."
   ]
  },
  {
   "cell_type": "code",
   "execution_count": 4,
   "metadata": {},
   "outputs": [
    {
     "name": "stdout",
     "output_type": "stream",
     "text": [
      "arn:aws:personalize:us-east-1:059124553121:campaign/newhrnncoldstart-30944\n",
      "arn:aws:personalize:us-east-1:059124553121:campaign/personalize-poc-SIMS\n",
      "arn:aws:personalize:us-east-1:059124553121:campaign/personalize-poc-hrnn\n",
      "arn:aws:personalize:us-east-1:059124553121:campaign/personalize-poc-rerank\n"
     ]
    }
   ],
   "source": [
    "paginator = personalize.get_paginator('list_campaigns')\n",
    "for paginate_result in paginator.paginate():\n",
    "    for campaign in paginate_result[\"campaigns\"]:\n",
    "        print(campaign[\"campaignArn\"])"
   ]
  },
  {
   "cell_type": "markdown",
   "metadata": {},
   "source": [
    "Look through the list of ARNs to determine which campaigns you want to delete. Then use the code below to delete the campaign by inserting the ARN."
   ]
  },
  {
   "cell_type": "code",
   "execution_count": 5,
   "metadata": {},
   "outputs": [
    {
     "data": {
      "text/plain": [
       "{'ResponseMetadata': {'RequestId': '95c026ee-6113-4ea3-9efc-2115af3018bc',\n",
       "  'HTTPStatusCode': 200,\n",
       "  'HTTPHeaders': {'content-type': 'application/x-amz-json-1.1',\n",
       "   'date': 'Thu, 03 Sep 2020 14:43:50 GMT',\n",
       "   'x-amzn-requestid': '95c026ee-6113-4ea3-9efc-2115af3018bc',\n",
       "   'content-length': '0',\n",
       "   'connection': 'keep-alive'},\n",
       "  'RetryAttempts': 0}}"
      ]
     },
     "execution_count": 5,
     "metadata": {},
     "output_type": "execute_result"
    }
   ],
   "source": [
    "personalize.delete_campaign(\n",
    "    campaignArn = \"arn:aws:personalize:us-east-1:059124553121:campaign/newhrnncoldstart-30944\"\n",
    ")\n",
    "personalize.delete_campaign(\n",
    "    campaignArn = \"arn:aws:personalize:us-east-1:059124553121:campaign/personalize-poc-SIMS\"\n",
    ")\n",
    "personalize.delete_campaign(\n",
    "    campaignArn = \"arn:aws:personalize:us-east-1:059124553121:campaign/personalize-poc-hrnn\"\n",
    ")\n",
    "personalize.delete_campaign(\n",
    "    campaignArn = \"arn:aws:personalize:us-east-1:059124553121:campaign/personalize-poc-rerank\"\n",
    ")"
   ]
  },
  {
   "cell_type": "markdown",
   "metadata": {},
   "source": [
    "## Clean up event trackers\n",
    "\n",
    "Next, clean up any event trackers. The code below will list all of the event trackers in your account."
   ]
  },
  {
   "cell_type": "code",
   "execution_count": 9,
   "metadata": {},
   "outputs": [
    {
     "name": "stdout",
     "output_type": "stream",
     "text": [
      "arn:aws:personalize:us-east-1:059124553121:event-tracker/2114f82b\n",
      "arn:aws:personalize:us-east-1:059124553121:event-tracker/84b78dd8\n",
      "arn:aws:personalize:us-east-1:059124553121:event-tracker/c87ed6d0\n",
      "arn:aws:personalize:us-east-1:059124553121:event-tracker/d6eeda4b\n"
     ]
    }
   ],
   "source": [
    "paginator = personalize.get_paginator('list_event_trackers')\n",
    "for paginate_result in paginator.paginate():\n",
    "    for event_tracker in paginate_result[\"eventTrackers\"]:\n",
    "        print(event_tracker[\"eventTrackerArn\"])"
   ]
  },
  {
   "cell_type": "markdown",
   "metadata": {},
   "source": [
    "Look through the list of ARNs to determine which event tracker you want to delete. Then use the code below to delete the it by inserting the ARN."
   ]
  },
  {
   "cell_type": "code",
   "execution_count": 12,
   "metadata": {},
   "outputs": [
    {
     "data": {
      "text/plain": [
       "{'ResponseMetadata': {'RequestId': '23847076-85d1-47bb-82ce-7b059b47d0b8',\n",
       "  'HTTPStatusCode': 200,\n",
       "  'HTTPHeaders': {'content-type': 'application/x-amz-json-1.1',\n",
       "   'date': 'Thu, 03 Sep 2020 14:46:09 GMT',\n",
       "   'x-amzn-requestid': '23847076-85d1-47bb-82ce-7b059b47d0b8',\n",
       "   'content-length': '0',\n",
       "   'connection': 'keep-alive'},\n",
       "  'RetryAttempts': 0}}"
      ]
     },
     "execution_count": 12,
     "metadata": {},
     "output_type": "execute_result"
    }
   ],
   "source": [
    "personalize.delete_event_tracker(\n",
    "    eventTrackerArn = event_tracker_arn\n",
    ")"
   ]
  },
  {
   "cell_type": "markdown",
   "metadata": {},
   "source": [
    "## Clean up Filters\n",
    "\n",
    "Next, clean up any filters. The code below iterate over all filters you created and delete them."
   ]
  },
  {
   "cell_type": "code",
   "execution_count": 14,
   "metadata": {},
   "outputs": [],
   "source": [
    "for filter_arn in meta_filter_arns:\n",
    "    personalize.delete_filter(\n",
    "        filterArn = filter_arn\n",
    "    )\n",
    "for filter_arn in interaction_filter_arns:\n",
    "    personalize.delete_filter(\n",
    "        filterArn = filter_arn\n",
    "    )"
   ]
  },
  {
   "cell_type": "markdown",
   "metadata": {},
   "source": [
    "## Clean up solutions\n",
    "\n",
    "Next, clean up the solutions. The code below will list all of the solutions in your account."
   ]
  },
  {
   "cell_type": "code",
   "execution_count": 15,
   "metadata": {},
   "outputs": [
    {
     "name": "stdout",
     "output_type": "stream",
     "text": [
      "arn:aws:personalize:us-east-1:059124553121:solution/newhrnncoldstart-30944\n",
      "arn:aws:personalize:us-east-1:059124553121:solution/personalize-poc-hrnnhpo\n",
      "arn:aws:personalize:us-east-1:059124553121:solution/personalize-poc-rerank\n",
      "arn:aws:personalize:us-east-1:059124553121:solution/personalize-poc-sims\n",
      "arn:aws:personalize:us-east-1:059124553121:solution/personalize-poc-userpersonalization\n"
     ]
    }
   ],
   "source": [
    "paginator = personalize.get_paginator('list_solutions')\n",
    "for paginate_result in paginator.paginate():\n",
    "    for solution in paginate_result[\"solutions\"]:\n",
    "        print(solution[\"solutionArn\"])"
   ]
  },
  {
   "cell_type": "markdown",
   "metadata": {},
   "source": [
    "Look through the list of ARNs to determine which solution you want to delete. Then use the code below to delete the it by inserting the ARN."
   ]
  },
  {
   "cell_type": "code",
   "execution_count": 16,
   "metadata": {},
   "outputs": [
    {
     "data": {
      "text/plain": [
       "{'ResponseMetadata': {'RequestId': '4e0d3c59-a60b-4a6d-9364-b1fc171b00cd',\n",
       "  'HTTPStatusCode': 200,\n",
       "  'HTTPHeaders': {'content-type': 'application/x-amz-json-1.1',\n",
       "   'date': 'Thu, 03 Sep 2020 15:05:35 GMT',\n",
       "   'x-amzn-requestid': '4e0d3c59-a60b-4a6d-9364-b1fc171b00cd',\n",
       "   'content-length': '0',\n",
       "   'connection': 'keep-alive'},\n",
       "  'RetryAttempts': 0}}"
      ]
     },
     "execution_count": 16,
     "metadata": {},
     "output_type": "execute_result"
    }
   ],
   "source": [
    "personalize.delete_solution(\n",
    "    solutionArn = \"arn:aws:personalize:us-east-1:059124553121:solution/personalize-poc-hrnnhpo\"\n",
    ")\n",
    "personalize.delete_solution(\n",
    "    solutionArn = \"arn:aws:personalize:us-east-1:059124553121:solution/personalize-poc-rerank\"\n",
    ")\n",
    "personalize.delete_solution(\n",
    "    solutionArn = \"arn:aws:personalize:us-east-1:059124553121:solution/personalize-poc-sims\"\n",
    ")\n",
    "personalize.delete_solution(\n",
    "    solutionArn = \"arn:aws:personalize:us-east-1:059124553121:solution/personalize-poc-userpersonalization\"\n",
    ")"
   ]
  },
  {
   "cell_type": "markdown",
   "metadata": {},
   "source": [
    "## Clean up datasets\n",
    "\n",
    "Next, clean up the datasets. The code below will delete the item and interactions datasets."
   ]
  },
  {
   "cell_type": "code",
   "execution_count": 17,
   "metadata": {},
   "outputs": [
    {
     "data": {
      "text/plain": [
       "{'ResponseMetadata': {'RequestId': '6e711e6a-5db4-47c4-8b89-b41408eebf81',\n",
       "  'HTTPStatusCode': 200,\n",
       "  'HTTPHeaders': {'content-type': 'application/x-amz-json-1.1',\n",
       "   'date': 'Thu, 03 Sep 2020 15:06:54 GMT',\n",
       "   'x-amzn-requestid': '6e711e6a-5db4-47c4-8b89-b41408eebf81',\n",
       "   'content-length': '0',\n",
       "   'connection': 'keep-alive'},\n",
       "  'RetryAttempts': 0}}"
      ]
     },
     "execution_count": 17,
     "metadata": {},
     "output_type": "execute_result"
    }
   ],
   "source": [
    "personalize.delete_dataset(\n",
    "    datasetArn = items_dataset_arn\n",
    ")\n",
    "personalize.delete_dataset(\n",
    "    datasetArn = interactions_dataset_arn\n",
    ")"
   ]
  },
  {
   "cell_type": "markdown",
   "metadata": {},
   "source": [
    "## Clean up the schemas\n",
    "\n",
    "Next, clean up the schemas. You create an interaction and item schema, delete them."
   ]
  },
  {
   "cell_type": "code",
   "execution_count": 21,
   "metadata": {},
   "outputs": [
    {
     "data": {
      "text/plain": [
       "{'ResponseMetadata': {'RequestId': 'd792d2a1-2230-4996-a549-4a3b525b8e68',\n",
       "  'HTTPStatusCode': 200,\n",
       "  'HTTPHeaders': {'content-type': 'application/x-amz-json-1.1',\n",
       "   'date': 'Thu, 03 Sep 2020 15:09:22 GMT',\n",
       "   'x-amzn-requestid': 'd792d2a1-2230-4996-a549-4a3b525b8e68',\n",
       "   'content-length': '0',\n",
       "   'connection': 'keep-alive'},\n",
       "  'RetryAttempts': 0}}"
      ]
     },
     "execution_count": 21,
     "metadata": {},
     "output_type": "execute_result"
    }
   ],
   "source": [
    "personalize.delete_schema(\n",
    "    schemaArn = interaction_schema_arn\n",
    ")\n",
    "personalize.delete_schema(\n",
    "    schemaArn = itemmetadataschema_arn\n",
    ")"
   ]
  },
  {
   "cell_type": "markdown",
   "metadata": {},
   "source": [
    "## Clean up the dataset groups\n",
    "\n",
    "Finally, clean up the dataset group:"
   ]
  },
  {
   "cell_type": "code",
   "execution_count": 23,
   "metadata": {},
   "outputs": [
    {
     "data": {
      "text/plain": [
       "{'ResponseMetadata': {'RequestId': '950aac6a-a501-4dab-90c6-06b5e78bb89d',\n",
       "  'HTTPStatusCode': 200,\n",
       "  'HTTPHeaders': {'content-type': 'application/x-amz-json-1.1',\n",
       "   'date': 'Thu, 03 Sep 2020 15:10:46 GMT',\n",
       "   'x-amzn-requestid': '950aac6a-a501-4dab-90c6-06b5e78bb89d',\n",
       "   'content-length': '0',\n",
       "   'connection': 'keep-alive'},\n",
       "  'RetryAttempts': 0}}"
      ]
     },
     "execution_count": 23,
     "metadata": {},
     "output_type": "execute_result"
    }
   ],
   "source": [
    "personalize.delete_dataset_group(\n",
    "    datasetGroupArn = dataset_group_arn\n",
    ")"
   ]
  },
  {
   "cell_type": "markdown",
   "metadata": {},
   "source": [
    "## Clean up the S3 bucket and IAM role\n",
    "\n",
    "Start by deleting the role, then empty the bucket, then delete the bucket."
   ]
  },
  {
   "cell_type": "code",
   "execution_count": 25,
   "metadata": {},
   "outputs": [],
   "source": [
    "iam = boto3.client('iam')"
   ]
  },
  {
   "cell_type": "markdown",
   "metadata": {},
   "source": [
    "Identify the name of the role you want to delete.\n",
    "\n",
    "You cannot delete an IAM role which still has policies attached to it. So after you have identified the relevant role, let's list the attached policies of that role."
   ]
  },
  {
   "cell_type": "code",
   "execution_count": 29,
   "metadata": {},
   "outputs": [
    {
     "data": {
      "text/plain": [
       "{'AttachedPolicies': [{'PolicyName': 'AmazonS3FullAccess',\n",
       "   'PolicyArn': 'arn:aws:iam::aws:policy/AmazonS3FullAccess'}],\n",
       " 'IsTruncated': False,\n",
       " 'ResponseMetadata': {'RequestId': '59651918-8515-44d3-b9fc-68ea68942c30',\n",
       "  'HTTPStatusCode': 200,\n",
       "  'HTTPHeaders': {'x-amzn-requestid': '59651918-8515-44d3-b9fc-68ea68942c30',\n",
       "   'content-type': 'text/xml',\n",
       "   'content-length': '540',\n",
       "   'date': 'Thu, 03 Sep 2020 15:13:18 GMT'},\n",
       "  'RetryAttempts': 0}}"
      ]
     },
     "execution_count": 29,
     "metadata": {},
     "output_type": "execute_result"
    }
   ],
   "source": [
    "iam.list_attached_role_policies(\n",
    "    RoleName = role_name\n",
    ")"
   ]
  },
  {
   "cell_type": "markdown",
   "metadata": {},
   "source": [
    "You need to detach the policies in the result above using the code below. Repeat for each attached policy."
   ]
  },
  {
   "cell_type": "code",
   "execution_count": 27,
   "metadata": {},
   "outputs": [
    {
     "data": {
      "text/plain": [
       "{'ResponseMetadata': {'RequestId': '7f1857d0-844f-4e14-9a2a-74aa9d7d0aa1',\n",
       "  'HTTPStatusCode': 200,\n",
       "  'HTTPHeaders': {'x-amzn-requestid': '7f1857d0-844f-4e14-9a2a-74aa9d7d0aa1',\n",
       "   'content-type': 'text/xml',\n",
       "   'content-length': '212',\n",
       "   'date': 'Thu, 03 Sep 2020 15:12:54 GMT'},\n",
       "  'RetryAttempts': 0}}"
      ]
     },
     "execution_count": 27,
     "metadata": {},
     "output_type": "execute_result"
    }
   ],
   "source": [
    "iam.detach_role_policy(\n",
    "    RoleName = role_name,\n",
    "    PolicyArn = \"arn:aws:iam::aws:policy/service-role/AmazonPersonalizeFullAccess\"\n",
    ")"
   ]
  },
  {
   "cell_type": "code",
   "execution_count": 30,
   "metadata": {},
   "outputs": [
    {
     "data": {
      "text/plain": [
       "{'ResponseMetadata': {'RequestId': 'd3d7dc1f-3f44-45fa-b32c-2e6390b440a1',\n",
       "  'HTTPStatusCode': 200,\n",
       "  'HTTPHeaders': {'x-amzn-requestid': 'd3d7dc1f-3f44-45fa-b32c-2e6390b440a1',\n",
       "   'content-type': 'text/xml',\n",
       "   'content-length': '212',\n",
       "   'date': 'Thu, 03 Sep 2020 15:13:53 GMT'},\n",
       "  'RetryAttempts': 0}}"
      ]
     },
     "execution_count": 30,
     "metadata": {},
     "output_type": "execute_result"
    }
   ],
   "source": [
    "iam.detach_role_policy(\n",
    "    RoleName = role_name,\n",
    "    PolicyArn = 'arn:aws:iam::aws:policy/AmazonS3FullAccess'\n",
    ")"
   ]
  },
  {
   "cell_type": "markdown",
   "metadata": {},
   "source": [
    "Finally, you should be able to delete the IAM role."
   ]
  },
  {
   "cell_type": "code",
   "execution_count": 31,
   "metadata": {},
   "outputs": [
    {
     "data": {
      "text/plain": [
       "{'ResponseMetadata': {'RequestId': '7adb2824-9eea-4617-bcf3-cbe8d45e5569',\n",
       "  'HTTPStatusCode': 200,\n",
       "  'HTTPHeaders': {'x-amzn-requestid': '7adb2824-9eea-4617-bcf3-cbe8d45e5569',\n",
       "   'content-type': 'text/xml',\n",
       "   'content-length': '200',\n",
       "   'date': 'Thu, 03 Sep 2020 15:13:57 GMT'},\n",
       "  'RetryAttempts': 0}}"
      ]
     },
     "execution_count": 31,
     "metadata": {},
     "output_type": "execute_result"
    }
   ],
   "source": [
    "iam.delete_role(\n",
    "    RoleName = role_name\n",
    ")"
   ]
  },
  {
   "cell_type": "markdown",
   "metadata": {},
   "source": [
    "To delete an S3 bucket, it first needs to be empty. The easiest way to delete an S3 bucket, is just to navigate to S3 in the AWS console, delete the objects in the bucket, and then delete the S3 bucket itself."
   ]
  }
 ],
 "metadata": {
  "kernelspec": {
   "display_name": "Python 3",
   "language": "python",
   "name": "python3"
  },
  "language_info": {
   "codemirror_mode": {
    "name": "ipython",
    "version": 3
   },
   "file_extension": ".py",
   "mimetype": "text/x-python",
   "name": "python",
   "nbconvert_exporter": "python",
   "pygments_lexer": "ipython3",
   "version": "3.8.2"
  }
 },
 "nbformat": 4,
 "nbformat_minor": 4
}
