{
 "cells": [
  {
   "cell_type": "markdown",
   "metadata": {},
   "source": [
    "# Cleaning Up\n",
    "\n",
    "This notebook demonstrates how to clean up all the resources created in the previous set of notebooks."
   ]
  },
  {
   "cell_type": "code",
   "execution_count": 1,
   "metadata": {},
   "outputs": [],
   "source": [
    "import boto3\n",
    "import json"
   ]
  },
  {
   "cell_type": "code",
   "execution_count": 2,
   "metadata": {},
   "outputs": [],
   "source": [
    "# Configure the SDK to Personalize:\n",
    "personalize = boto3.client('personalize')\n",
    "personalize_runtime = boto3.client('personalize-runtime')"
   ]
  },
  {
   "cell_type": "markdown",
   "metadata": {},
   "source": [
    "## Clean up campaigns\n",
    "\n",
    "Start by cleaning up the campaigns. You need to delete campaigns before you can delete the solution versions upon which they are based. \n",
    "\n",
    "The code below will list all of the campaigns in your account."
   ]
  },
  {
   "cell_type": "code",
   "execution_count": 3,
   "metadata": {},
   "outputs": [],
   "source": [
    "paginator = personalize.get_paginator('list_campaigns')\n",
    "for paginate_result in paginator.paginate():\n",
    "    for campaign in paginate_result[\"campaigns\"]:\n",
    "        print(campaign[\"campaignArn\"])"
   ]
  },
  {
   "cell_type": "markdown",
   "metadata": {},
   "source": [
    "Look through the list of ARNs to determine which campaigns you want to delete. Then use the code below to delete the campaign by inserting the ARN."
   ]
  },
  {
   "cell_type": "code",
   "execution_count": null,
   "metadata": {},
   "outputs": [],
   "source": [
    "personalize.delete_campaign(\n",
    "    campaignArn = \"INSERT ARN HERE\"\n",
    ")"
   ]
  },
  {
   "cell_type": "markdown",
   "metadata": {},
   "source": [
    "## Clean up event trackers\n",
    "\n",
    "Next, clean up any event trackers. The code below will list all of the event trackers in your account."
   ]
  },
  {
   "cell_type": "code",
   "execution_count": null,
   "metadata": {},
   "outputs": [],
   "source": [
    "paginator = personalize.get_paginator('list_event_trackers')\n",
    "for paginate_result in paginator.paginate():\n",
    "    for event_tracker in paginate_result[\"eventTrackers\"]:\n",
    "        print(event_tracker[\"eventTrackerArn\"])"
   ]
  },
  {
   "cell_type": "markdown",
   "metadata": {},
   "source": [
    "Look through the list of ARNs to determine which event tracker you want to delete. Then use the code below to delete the it by inserting the ARN."
   ]
  },
  {
   "cell_type": "code",
   "execution_count": null,
   "metadata": {},
   "outputs": [],
   "source": [
    "personalize.delete_event_tracker(\n",
    "    eventTrackerArn = \"INSERT ARN HERE\"\n",
    ")"
   ]
  },
  {
   "cell_type": "markdown",
   "metadata": {},
   "source": [
    "## Clean up solutions\n",
    "\n",
    "Next, clean up the solutions. The code below will list all of the solutions in your account."
   ]
  },
  {
   "cell_type": "code",
   "execution_count": null,
   "metadata": {},
   "outputs": [],
   "source": [
    "paginator = personalize.get_paginator('list_solutions')\n",
    "for paginate_result in paginator.paginate():\n",
    "    for solution in paginate_result[\"solutions\"]:\n",
    "        print(solution[\"solutionArn\"])"
   ]
  },
  {
   "cell_type": "markdown",
   "metadata": {},
   "source": [
    "Look through the list of ARNs to determine which solution you want to delete. Then use the code below to delete the it by inserting the ARN."
   ]
  },
  {
   "cell_type": "code",
   "execution_count": null,
   "metadata": {},
   "outputs": [],
   "source": [
    "personalize.delete_solution(\n",
    "    solutionArn = \"INSERT ARN HERE\"\n",
    ")"
   ]
  },
  {
   "cell_type": "markdown",
   "metadata": {},
   "source": [
    "## Clean up datasets\n",
    "\n",
    "Next, clean up the datasets. The code below will list all of the datasets in your account."
   ]
  },
  {
   "cell_type": "code",
   "execution_count": 4,
   "metadata": {},
   "outputs": [
    {
     "name": "stdout",
     "output_type": "stream",
     "text": [
      "arn:aws:personalize:us-east-1:051545784337:dataset/personalize-poc-movielens20m/INTERACTIONS\n"
     ]
    }
   ],
   "source": [
    "paginator = personalize.get_paginator('list_datasets')\n",
    "for paginate_result in paginator.paginate():\n",
    "    for datasets in paginate_result[\"datasets\"]:\n",
    "        print(datasets[\"datasetArn\"])"
   ]
  },
  {
   "cell_type": "markdown",
   "metadata": {},
   "source": [
    "Look through the list of ARNs to determine which dataset you want to delete. Then use the code below to delete the it by inserting the ARN."
   ]
  },
  {
   "cell_type": "code",
   "execution_count": 5,
   "metadata": {},
   "outputs": [
    {
     "data": {
      "text/plain": [
       "{'ResponseMetadata': {'RequestId': '5b270bfa-eed8-4c48-a7bf-2bc48ab5404e',\n",
       "  'HTTPStatusCode': 200,\n",
       "  'HTTPHeaders': {'content-type': 'application/x-amz-json-1.1',\n",
       "   'date': 'Thu, 06 Aug 2020 17:42:39 GMT',\n",
       "   'x-amzn-requestid': '5b270bfa-eed8-4c48-a7bf-2bc48ab5404e',\n",
       "   'content-length': '0',\n",
       "   'connection': 'keep-alive'},\n",
       "  'RetryAttempts': 0}}"
      ]
     },
     "execution_count": 5,
     "metadata": {},
     "output_type": "execute_result"
    }
   ],
   "source": [
    "personalize.delete_dataset(\n",
    "    datasetArn = \"arn:aws:personalize:us-east-1:051545784337:dataset/personalize-poc-movielens20m/INTERACTIONS\"\n",
    ")"
   ]
  },
  {
   "cell_type": "markdown",
   "metadata": {},
   "source": [
    "## Clean up the schemas\n",
    "\n",
    "Next, clean up the schemas. The code below will list all of the schemas in your account."
   ]
  },
  {
   "cell_type": "code",
   "execution_count": 6,
   "metadata": {},
   "outputs": [
    {
     "name": "stdout",
     "output_type": "stream",
     "text": [
      "arn:aws:personalize:us-east-1:051545784337:schema/personalize-poc-lastfm-interactions\n"
     ]
    }
   ],
   "source": [
    "paginator = personalize.get_paginator('list_schemas')\n",
    "for paginate_result in paginator.paginate():\n",
    "    for schema in paginate_result[\"schemas\"]:\n",
    "        print(schema[\"schemaArn\"])"
   ]
  },
  {
   "cell_type": "markdown",
   "metadata": {},
   "source": [
    "Look through the list of ARNs to determine which schema you want to delete. Then use the code below to delete the it by inserting the ARN."
   ]
  },
  {
   "cell_type": "code",
   "execution_count": 7,
   "metadata": {},
   "outputs": [
    {
     "ename": "ResourceInUseException",
     "evalue": "An error occurred (ResourceInUseException) when calling the DeleteSchema operation: The provided schema is being referenced by one or more datasets",
     "output_type": "error",
     "traceback": [
      "\u001b[0;31m---------------------------------------------------------------------------\u001b[0m",
      "\u001b[0;31mResourceInUseException\u001b[0m                    Traceback (most recent call last)",
      "\u001b[0;32m<ipython-input-7-deb9ca3eafc8>\u001b[0m in \u001b[0;36m<module>\u001b[0;34m\u001b[0m\n\u001b[1;32m      1\u001b[0m personalize.delete_schema(\n\u001b[0;32m----> 2\u001b[0;31m     \u001b[0mschemaArn\u001b[0m \u001b[0;34m=\u001b[0m \u001b[0;34m\"arn:aws:personalize:us-east-1:051545784337:schema/personalize-poc-lastfm-interactions\"\u001b[0m\u001b[0;34m\u001b[0m\u001b[0;34m\u001b[0m\u001b[0m\n\u001b[0m\u001b[1;32m      3\u001b[0m )\n",
      "\u001b[0;32m~/anaconda3/envs/python3/lib/python3.6/site-packages/botocore/client.py\u001b[0m in \u001b[0;36m_api_call\u001b[0;34m(self, *args, **kwargs)\u001b[0m\n\u001b[1;32m    314\u001b[0m                     \"%s() only accepts keyword arguments.\" % py_operation_name)\n\u001b[1;32m    315\u001b[0m             \u001b[0;31m# The \"self\" in this scope is referring to the BaseClient.\u001b[0m\u001b[0;34m\u001b[0m\u001b[0;34m\u001b[0m\u001b[0;34m\u001b[0m\u001b[0m\n\u001b[0;32m--> 316\u001b[0;31m             \u001b[0;32mreturn\u001b[0m \u001b[0mself\u001b[0m\u001b[0;34m.\u001b[0m\u001b[0m_make_api_call\u001b[0m\u001b[0;34m(\u001b[0m\u001b[0moperation_name\u001b[0m\u001b[0;34m,\u001b[0m \u001b[0mkwargs\u001b[0m\u001b[0;34m)\u001b[0m\u001b[0;34m\u001b[0m\u001b[0;34m\u001b[0m\u001b[0m\n\u001b[0m\u001b[1;32m    317\u001b[0m \u001b[0;34m\u001b[0m\u001b[0m\n\u001b[1;32m    318\u001b[0m         \u001b[0m_api_call\u001b[0m\u001b[0;34m.\u001b[0m\u001b[0m__name__\u001b[0m \u001b[0;34m=\u001b[0m \u001b[0mstr\u001b[0m\u001b[0;34m(\u001b[0m\u001b[0mpy_operation_name\u001b[0m\u001b[0;34m)\u001b[0m\u001b[0;34m\u001b[0m\u001b[0;34m\u001b[0m\u001b[0m\n",
      "\u001b[0;32m~/anaconda3/envs/python3/lib/python3.6/site-packages/botocore/client.py\u001b[0m in \u001b[0;36m_make_api_call\u001b[0;34m(self, operation_name, api_params)\u001b[0m\n\u001b[1;32m    633\u001b[0m             \u001b[0merror_code\u001b[0m \u001b[0;34m=\u001b[0m \u001b[0mparsed_response\u001b[0m\u001b[0;34m.\u001b[0m\u001b[0mget\u001b[0m\u001b[0;34m(\u001b[0m\u001b[0;34m\"Error\"\u001b[0m\u001b[0;34m,\u001b[0m \u001b[0;34m{\u001b[0m\u001b[0;34m}\u001b[0m\u001b[0;34m)\u001b[0m\u001b[0;34m.\u001b[0m\u001b[0mget\u001b[0m\u001b[0;34m(\u001b[0m\u001b[0;34m\"Code\"\u001b[0m\u001b[0;34m)\u001b[0m\u001b[0;34m\u001b[0m\u001b[0;34m\u001b[0m\u001b[0m\n\u001b[1;32m    634\u001b[0m             \u001b[0merror_class\u001b[0m \u001b[0;34m=\u001b[0m \u001b[0mself\u001b[0m\u001b[0;34m.\u001b[0m\u001b[0mexceptions\u001b[0m\u001b[0;34m.\u001b[0m\u001b[0mfrom_code\u001b[0m\u001b[0;34m(\u001b[0m\u001b[0merror_code\u001b[0m\u001b[0;34m)\u001b[0m\u001b[0;34m\u001b[0m\u001b[0;34m\u001b[0m\u001b[0m\n\u001b[0;32m--> 635\u001b[0;31m             \u001b[0;32mraise\u001b[0m \u001b[0merror_class\u001b[0m\u001b[0;34m(\u001b[0m\u001b[0mparsed_response\u001b[0m\u001b[0;34m,\u001b[0m \u001b[0moperation_name\u001b[0m\u001b[0;34m)\u001b[0m\u001b[0;34m\u001b[0m\u001b[0;34m\u001b[0m\u001b[0m\n\u001b[0m\u001b[1;32m    636\u001b[0m         \u001b[0;32melse\u001b[0m\u001b[0;34m:\u001b[0m\u001b[0;34m\u001b[0m\u001b[0;34m\u001b[0m\u001b[0m\n\u001b[1;32m    637\u001b[0m             \u001b[0;32mreturn\u001b[0m \u001b[0mparsed_response\u001b[0m\u001b[0;34m\u001b[0m\u001b[0;34m\u001b[0m\u001b[0m\n",
      "\u001b[0;31mResourceInUseException\u001b[0m: An error occurred (ResourceInUseException) when calling the DeleteSchema operation: The provided schema is being referenced by one or more datasets"
     ]
    }
   ],
   "source": [
    "personalize.delete_schema(\n",
    "    schemaArn = \"arn:aws:personalize:us-east-1:051545784337:schema/personalize-poc-lastfm-interactions\"\n",
    ")"
   ]
  },
  {
   "cell_type": "markdown",
   "metadata": {},
   "source": [
    "## Clean up the dataset groups\n",
    "\n",
    "Finally, clean up the dataset group. The code below will list all of the dataset groups in your account."
   ]
  },
  {
   "cell_type": "code",
   "execution_count": 8,
   "metadata": {},
   "outputs": [
    {
     "name": "stdout",
     "output_type": "stream",
     "text": [
      "arn:aws:personalize:us-east-1:051545784337:dataset-group/personalize-poc-movielens20m\n"
     ]
    }
   ],
   "source": [
    "paginator = personalize.get_paginator('list_dataset_groups')\n",
    "for paginate_result in paginator.paginate():\n",
    "    for dataset_group in paginate_result[\"datasetGroups\"]:\n",
    "        print(dataset_group[\"datasetGroupArn\"])"
   ]
  },
  {
   "cell_type": "markdown",
   "metadata": {},
   "source": [
    "Look through the list of ARNs to determine which dataset group you want to delete. Then use the code below to delete the it by inserting the ARN."
   ]
  },
  {
   "cell_type": "code",
   "execution_count": 9,
   "metadata": {},
   "outputs": [
    {
     "data": {
      "text/plain": [
       "{'ResponseMetadata': {'RequestId': '50f918a0-e0c5-4a24-b330-1add4c2ae71d',\n",
       "  'HTTPStatusCode': 200,\n",
       "  'HTTPHeaders': {'content-type': 'application/x-amz-json-1.1',\n",
       "   'date': 'Thu, 06 Aug 2020 17:43:22 GMT',\n",
       "   'x-amzn-requestid': '50f918a0-e0c5-4a24-b330-1add4c2ae71d',\n",
       "   'content-length': '0',\n",
       "   'connection': 'keep-alive'},\n",
       "  'RetryAttempts': 0}}"
      ]
     },
     "execution_count": 9,
     "metadata": {},
     "output_type": "execute_result"
    }
   ],
   "source": [
    "personalize.delete_dataset_group(\n",
    "    datasetGroupArn = \"arn:aws:personalize:us-east-1:051545784337:dataset-group/personalize-poc-movielens20m\"\n",
    ")"
   ]
  },
  {
   "cell_type": "markdown",
   "metadata": {},
   "source": [
    "## Clean up the S3 bucket and IAM role\n",
    "\n",
    "Optionally, you can delete the IAM role and the S3 bucket which we created throughout the workshop.\n",
    "\n",
    "Start by listing all of the IAM roles in your account with the code below."
   ]
  },
  {
   "cell_type": "code",
   "execution_count": 10,
   "metadata": {},
   "outputs": [
    {
     "name": "stdout",
     "output_type": "stream",
     "text": [
      "Admin\n",
      "AmazonSageMaker-ExecutionRole-20200222T182289\n",
      "AmazonSageMaker-ExecutionRole-20200522T124978\n",
      "AmazonSageMaker-ExecutionRole-20200616T093520\n",
      "autoanalyzee-AnalysisAutomationFunctionRole-150JC0W4XWN84\n",
      "autoanalyzee-CronJobFunctionRole-1KRNWOO9AFRWL\n",
      "autoanalyzee-CustomResourceExecutionRole-S5ZJH355XS9D\n",
      "AWSDeepRacerCloudFormationAccessRole\n",
      "AWSDeepRacerLambdaAccessRole\n",
      "AWSDeepRacerRoboMakerAccessRole\n",
      "AWSDeepRacerSageMakerAccessRole\n",
      "AWSDeepRacerServiceRole\n",
      "AwsSecurityAudit\n",
      "AwsSecurityNacundaAudit\n",
      "AWSServiceRoleForAmazonGuardDuty\n",
      "AWSServiceRoleForAmazonSageMakerNotebooks\n",
      "AWSServiceRoleForIsengardControllerRoleInternal\n",
      "AWSServiceRoleForSupport\n",
      "AWSServiceRoleForTrustedAdvisor\n",
      "CustomLabelsServerlessDemo-CustomResourceRole-1FV1PQ9A27TRH\n",
      "CustomLabelsServerlessDemo-RekognitionInvokeRole-1Y0BXXVXNUD5D\n",
      "EC2CapacityReservationService\n",
      "GatedGardenAudit\n",
      "GatedGardenInternalAudit\n",
      "InternalAuditInternal\n",
      "IsengardAuditorRole-DO-NOT-DELETE\n",
      "IsengardCloudTrailRole\n",
      "IsengardConfigRole\n",
      "IsengardRole-DO-NOT-DELETE\n",
      "labeling-LambdaExecutionRole-15QEF3BG7RIU\n",
      "labeling-StatesExecutionRole-A04MN2RMLCG6\n",
      "Media2Cloud-AuthenticatedRole-8ME9PC9O66XM\n",
      "Media2Cloud-BucketStack-CEUWHNE5YFVO-ExecutionRole-CLG2SGSOFWSF\n",
      "Media2Cloud-CustomResourceExecutionRole-5JS3XCIRK3I\n",
      "Media2Cloud-GroundTruthSt-PreLabelingExecutionRole-IPKMF7AE747F\n",
      "Media2Cloud-GroundTruthSt-StateMachineExecutionRol-9UE3LFS3CIA9\n",
      "Media2Cloud-GroundTruthSta-StateMachineServiceRole-1CU74UZGDISEM\n",
      "Media2Cloud-GroundTruthStack-SageMakerServiceRole-1EGZ3EKFNPIJH\n",
      "Media2Cloud-Media2CloudApiGateway-ApiLogAccessRole-4ZGNUEOUJX65\n",
      "Media2Cloud-Media2CloudApiGatewaySta-ExecutionRole-1ID9D9K2LC7Z2\n",
      "Media2Cloud-StateMachineErrorHandlerRole-OX2QSIBJNZTW\n",
      "Media2Cloud-StateMachines-OnAnalysisStateMachineFu-3L0KNCL4V37Y\n",
      "Media2Cloud-StateMachines-OnAudioAnalysisStateMach-78D05Z1JL58G\n",
      "Media2Cloud-StateMachines-OnDocumentAnalysisStateM-1VOX0809QDF5Z\n",
      "Media2Cloud-StateMachines-OnImageAnalysisStateMach-FBTWFASD1VDX\n",
      "Media2Cloud-StateMachines-OnIngestStateMachineFunc-C3WX32R7VZLT\n",
      "Media2Cloud-StateMachines-OnVideoAnalysisStateMach-1LC8XTB47R4ZH\n",
      "Media2Cloud-StateMachinesS-StateMachineServiceRole-1HLTTTM3EFJA3\n",
      "Media2Cloud-StateMachinesSta-ComprehendServiceRole-D5AYM5XSYRK5\n",
      "Media2Cloud-StateMachinesStack-1C-MediaConvertRole-1SVKC2XQRQT4R\n",
      "mediaanalysis-api-demo-ApiErrorLogRole-1SJZ1RMSKXT4Z\n",
      "mediaanalysis-api-demo-ApiRole-18QF15X06RAY4\n",
      "mediaanalysis-api-demo-AuthenticatedUserRole-9JW9U67NP4EZ\n",
      "mediaanalysis-api-demo-CustomResourceRole-VXWEWK140UKC\n",
      "mediaanalysis-api-demo-MediaConvertRole-5ZB7HZFLS37T\n",
      "mediaanalysis-api-demo-ServiceTopicRole-1ASY546S31HBX\n",
      "mediaanalysis-api-demo-ShotDetectionLambdaRole-1TDLDXFGH4PWO\n",
      "mediaanalysis-api-demo-StateMachineRole-9V6MYNR8YJ2X\n",
      "mediaanalysis-api-demo-StatusUpdaterRole-1KNJSO8IDNYKP\n",
      "mie-dev-7-Analytics-19KMVLF7AQ-ElasticConsumerRole-11DBWKMC514L3\n",
      "mie-dev-7-Analytics-19KMVLF7AQRCR-LambdaStreamRole-1TTIXCUSY87SU\n",
      "mie-dev-7-CognitoRoleMapperLambdaExecutionRole-1O2KBBZCYJBWN\n",
      "mie-dev-7-CognitStandardAuthDefaultRole-19UMLWHBS8VMY\n",
      "mie-dev-7-CognitStandardUnauthDefaultRole-14AWBFIIT4AB3\n",
      "mie-dev-7-MediaInsightsDataplaneApi-ApiHandlerRole-GO90XJTT05ET\n",
      "mie-dev-7-MediaInsightsWebApp-B5-WebsiteHelperRole-1KBSA2FQV9SV9\n",
      "mie-dev-7-MediaInsightsWo-WorkflowCustomResourceRo-Y1PRAZ3QHGDM\n",
      "mie-dev-7-MediaInsightsWorkflowApi-ApiHandlerRole-1Y1X878IIF5ZP\n",
      "mie-dev-7-MieDeveloperRole-17DIM1ZRAFEV6\n",
      "mie-dev-7-OperationLambdaExecutionRole-WOVBR0ETPPRS\n",
      "mie-dev-7-operatorFailedRole-1QMXAGRGVUMH2\n",
      "mie-dev-7-OperatorLibrary-1-mediaConvertLambdaRole-S54OMKQGTYLK\n",
      "mie-dev-7-OperatorLibrary-168T-mediainfoLambdaRole-YLGFXMLXFNEY\n",
      "mie-dev-7-OperatorLibrary-168TE-frameExtractorRole-IUCNUAALZ734\n",
      "mie-dev-7-OperatorLibrary-168TE-mediaConvertS3Role-5FAQLOV29QWC\n",
      "mie-dev-7-OperatorLibrary-168TEGR-comprehendS3Role-SW0FEI2UV1F0\n",
      "mie-dev-7-OperatorLibrary-168TEGR-StepFunctionRole-1WGEKNHBJYZQD\n",
      "mie-dev-7-OperatorLibrary-168TEGR9-rekognitionRole-11PJBDIKLWBCQ\n",
      "mie-dev-7-OperatorLibrary-168TEGR97-comprehendRole-YE1OEMVJZBW7\n",
      "mie-dev-7-OperatorLibrary-168TEGR97-transcribeRole-299N6266FG4I\n",
      "mie-dev-7-OperatorLibrary-168TEGR97M-translateRole-5LDB3XGUDNCD\n",
      "mie-dev-7-OperatorLibrary-168TEGR97MB-captionsRole-1M067TWYDUQBJ\n",
      "mie-dev-7-OperatorLibrary-168TEGR97MB4A-pollyRole-SIL4UL7346IJ\n",
      "mie-dev-7-OperatorLibrary-genericDataLookupLambdaR-1HTR8CGL0LUJX\n",
      "mie-dev-7-StageExecutionRole-PL1Y2UPXI4TG\n",
      "mie-dev-7-StepFunctionRole-18IGLBUBN6A13\n",
      "mie-dev-7-StepFunctionsServiceRole-C3DYLZ8SN85E\n",
      "mie-dev-7-StringFunctions-N-TransformExecutionRole-IJ6CXT3Y3952\n",
      "mie-dev-8-Analytics-1GQ4TTINV5-ElasticConsumerRole-1RLULM3ETCE73\n",
      "mie-dev-8-Analytics-1GQ4TTINV5S79-LambdaStreamRole-16M2JF4Z56PWZ\n",
      "mie-dev-8-CognitoRoleMapperLambdaExecutionRole-12GCTATE8917Y\n",
      "mie-dev-8-CognitStandardAuthDefaultRole-CKOF50WOSFXL\n",
      "mie-dev-8-CognitStandardUnauthDefaultRole-LLSNN4ASUGSQ\n",
      "mie-dev-8-MediaInsightsDataplaneApi-ApiHandlerRole-1THJPFD5TT2E6\n",
      "mie-dev-8-MediaInsightsWebApp-10-WebsiteHelperRole-IZMLGS0VEGGC\n",
      "mie-dev-8-MediaInsightsWo-WorkflowCustomResourceRo-K69SPSBWPWJN\n",
      "mie-dev-8-MediaInsightsWorkflowApi-ApiHandlerRole-1VUDY7AOPIST7\n",
      "mie-dev-8-MieDeveloperRole-17Q9Y1HE5BCOF\n",
      "mie-dev-8-OperationLambdaExecutionRole-J0ZL7JOWTX76\n",
      "mie-dev-8-operatorFailedRole-JZ3EO5HPTO8Y\n",
      "mie-dev-8-OperatorLibrary-1-mediaConvertLambdaRole-1AUJ41JSL8BRL\n",
      "mie-dev-8-OperatorLibrary-1QB8-mediainfoLambdaRole-SUPHAPF51613\n",
      "mie-dev-8-OperatorLibrary-1QB88-frameExtractorRole-1J4Q7S2B18OBF\n",
      "mie-dev-8-OperatorLibrary-1QB88-mediaConvertS3Role-1MD3DYNVR09T9\n",
      "mie-dev-8-OperatorLibrary-1QB8820-comprehendS3Role-11NUFGMAZTTQK\n",
      "mie-dev-8-OperatorLibrary-1QB8820-StepFunctionRole-FEZ17YVQRXS7\n",
      "mie-dev-8-OperatorLibrary-1QB8820C-rekognitionRole-EJB8FVCJXDM0\n",
      "mie-dev-8-OperatorLibrary-1QB8820CC-comprehendRole-WIZLMU84MWRB\n",
      "mie-dev-8-OperatorLibrary-1QB8820CC-transcribeRole-16CJFFE39BLFF\n",
      "mie-dev-8-OperatorLibrary-1QB8820CC9-translateRole-DK6V5DJTLB99\n",
      "mie-dev-8-OperatorLibrary-1QB8820CC9I-captionsRole-14FVIXHGWA495\n",
      "mie-dev-8-OperatorLibrary-1QB8820CC9IWL-pollyRole-F8AG3S6OZK85\n",
      "mie-dev-8-OperatorLibrary-genericDataLookupLambdaR-I8GT6S19NNRS\n",
      "mie-dev-8-StageExecutionRole-HIYJ97520M5G\n",
      "mie-dev-8-StepFunctionRole-1K4KWMXUBLH83\n",
      "mie-dev-8-StepFunctionsServiceRole-43BM36D0GL9W\n",
      "mie-dev-8-StringFunctions-1-TransformExecutionRole-48IKUZJNRT7J\n",
      "PersonalizeDTC-SageMakerIamRole-163REN5TXVF6M\n",
      "PersonalizeRolePOC\n",
      "ResourceConfigurationCollector-DO-NOT-DELETE\n",
      "s3bulkimport-role-vbd6e35y\n",
      "s3ec2\n",
      "socialdashboard-AttachPolicyCustomResourceLambdaRo-AOEKRSYT81L0\n",
      "socialdashboard-IngestionFirehoseRole-1F7R6FJ5985E7\n",
      "socialdashboard-SocialMediaAnalyticLambdaFuntionLa-1OSWL5DMZMXK9\n",
      "socialdashboard-SocialMediaAnalyticsEC2Role-144Y3H6CLOQUL\n",
      "StepFunctions-MyStateMachine-role-65d3f2d3\n",
      "testES-role-ku1zatvs\n",
      "videotranscriber-prod-aws-captions-elastic-transcoder-role\n",
      "videotranscriber-prod-aws-captions-lambda-role\n"
     ]
    }
   ],
   "source": [
    "iam = boto3.client('iam')\n",
    "\n",
    "paginator = iam.get_paginator('list_roles')\n",
    "for paginate_result in paginator.paginate():\n",
    "    for roles in paginate_result[\"Roles\"]:\n",
    "        print(roles[\"RoleName\"])"
   ]
  },
  {
   "cell_type": "markdown",
   "metadata": {},
   "source": [
    "Identify the name of the role you want to delete.\n",
    "\n",
    "You cannot delete an IAM role which still has policies attached to it. So after you have identified the relevant role, let's list the attached policies of that role."
   ]
  },
  {
   "cell_type": "code",
   "execution_count": 15,
   "metadata": {},
   "outputs": [
    {
     "data": {
      "text/plain": [
       "{'AttachedPolicies': [{'PolicyName': 'AmazonPersonalizeFullAccess',\n",
       "   'PolicyArn': 'arn:aws:iam::aws:policy/service-role/AmazonPersonalizeFullAccess'}],\n",
       " 'IsTruncated': False,\n",
       " 'ResponseMetadata': {'RequestId': '3dc7d276-6600-4d93-9e5d-22f0f14ae648',\n",
       "  'HTTPStatusCode': 200,\n",
       "  'HTTPHeaders': {'x-amzn-requestid': '3dc7d276-6600-4d93-9e5d-22f0f14ae648',\n",
       "   'content-type': 'text/xml',\n",
       "   'content-length': '571',\n",
       "   'date': 'Thu, 06 Aug 2020 17:45:10 GMT'},\n",
       "  'RetryAttempts': 0}}"
      ]
     },
     "execution_count": 15,
     "metadata": {},
     "output_type": "execute_result"
    }
   ],
   "source": [
    "iam.list_attached_role_policies(\n",
    "    RoleName = \"PersonalizeRolePOC\"\n",
    ")"
   ]
  },
  {
   "cell_type": "markdown",
   "metadata": {},
   "source": [
    "You need to detach the policies in the result above using the code below. Repeat for each attached policy."
   ]
  },
  {
   "cell_type": "code",
   "execution_count": 16,
   "metadata": {},
   "outputs": [
    {
     "data": {
      "text/plain": [
       "{'ResponseMetadata': {'RequestId': '39604df1-a48b-45cb-a1a0-a8ff5d5efb27',\n",
       "  'HTTPStatusCode': 200,\n",
       "  'HTTPHeaders': {'x-amzn-requestid': '39604df1-a48b-45cb-a1a0-a8ff5d5efb27',\n",
       "   'content-type': 'text/xml',\n",
       "   'content-length': '212',\n",
       "   'date': 'Thu, 06 Aug 2020 17:45:21 GMT'},\n",
       "  'RetryAttempts': 0}}"
      ]
     },
     "execution_count": 16,
     "metadata": {},
     "output_type": "execute_result"
    }
   ],
   "source": [
    "iam.detach_role_policy(\n",
    "    RoleName = \"PersonalizeRolePOC\",\n",
    "    PolicyArn = \"arn:aws:iam::aws:policy/service-role/AmazonPersonalizeFullAccess\"\n",
    ")"
   ]
  },
  {
   "cell_type": "markdown",
   "metadata": {},
   "source": [
    "Finally, you should be able to delete the IAM role."
   ]
  },
  {
   "cell_type": "code",
   "execution_count": 17,
   "metadata": {},
   "outputs": [
    {
     "data": {
      "text/plain": [
       "{'ResponseMetadata': {'RequestId': '1575a325-b081-4527-81fb-b910882924c0',\n",
       "  'HTTPStatusCode': 200,\n",
       "  'HTTPHeaders': {'x-amzn-requestid': '1575a325-b081-4527-81fb-b910882924c0',\n",
       "   'content-type': 'text/xml',\n",
       "   'content-length': '200',\n",
       "   'date': 'Thu, 06 Aug 2020 17:45:24 GMT'},\n",
       "  'RetryAttempts': 0}}"
      ]
     },
     "execution_count": 17,
     "metadata": {},
     "output_type": "execute_result"
    }
   ],
   "source": [
    "iam.delete_role(\n",
    "    RoleName = \"PersonalizeRolePOC\"\n",
    ")"
   ]
  },
  {
   "cell_type": "markdown",
   "metadata": {},
   "source": [
    "To delete an S3 bucket, it first needs to be empty. The easiest way to delete an S3 bucket, is just to navigate to S3 in the AWS console, delete the objects in the bucket, and then delete the S3 bucket itself."
   ]
  }
 ],
 "metadata": {
  "kernelspec": {
   "display_name": "conda_python3",
   "language": "python",
   "name": "conda_python3"
  },
  "language_info": {
   "codemirror_mode": {
    "name": "ipython",
    "version": 3
   },
   "file_extension": ".py",
   "mimetype": "text/x-python",
   "name": "python",
   "nbconvert_exporter": "python",
   "pygments_lexer": "ipython3",
   "version": "3.6.10"
  }
 },
 "nbformat": 4,
 "nbformat_minor": 4
}
